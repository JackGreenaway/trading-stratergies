{
 "cells": [
  {
   "cell_type": "code",
   "execution_count": 2,
   "metadata": {},
   "outputs": [],
   "source": [
    "import pandas as pd\n",
    "import yfinance as yf\n",
    "import numpy as np\n",
    "import ta\n",
    "import matplotlib.pyplot as plt\n",
    "from statsmodels.tsa.stattools import adfuller, kpss\n",
    "import datetime as dt\n",
    "import sys"
   ]
  },
  {
   "cell_type": "code",
   "execution_count": 7,
   "metadata": {},
   "outputs": [],
   "source": [
    "class backtest:\n",
    "    \n",
    "    def __init__(self, symbol, start):\n",
    "        self.symbol = symbol\n",
    "        self.start = start\n",
    "        self.df = yf.download(self.symbol, start=self.start)\n",
    "        if self.df.empty:\n",
    "            print('No pulled data')\n",
    "        else:\n",
    "            self.keltner_band()\n",
    "            self.signals()\n",
    "            self.loop_bt()\n",
    "            print(self.calc_profit())\n",
    "            self.calc_buyhold\n",
    "            self.buyHold = self.calc_buyhold()\n",
    "            #self.profit = self.calc_profit()\n",
    "            #self.cum_profit = (self.profit + 1).prod() - 1 \n",
    "            #self.plot_bands()\n",
    "            #self.plot_signals()\n",
    "    \n",
    "    def keltner_band(self):\n",
    "        self.df['HighBand'] = ta.volatility.keltner_channel_hband(self.df.High, self.df.Low, self.df.Close, original_version=False)\n",
    "        self.df['MiddleBand'] = ta.volatility.keltner_channel_mband(self.df.High, self.df.Low, self.df.Close, original_version=False)\n",
    "        self.df['LowBand'] = ta.volatility.keltner_channel_lband(self.df.High, self.df.Low, self.df.Close, original_version=False)\n",
    "        self.df['rsi'] = ta.momentum.rsi(self.df.Close, window=6)\n",
    "        self.df['shifted_close'] = self.df.Close.shift()\n",
    "        \n",
    "    def plot_bands(self):\n",
    "        plt.figure(figsize=(15,5))\n",
    "        plt.plot(self.df['2022':][['Close', 'HighBand', 'MiddleBand', 'LowBand']], label=['Close', 'Upper', 'Middle', 'Lower'])\n",
    "        #plt.fill_between(df.index, df.HighBand, df.LowBand, color='grey', alpha=0.3)\n",
    "        plt.legend(loc='lower left') \n",
    "        \n",
    "    def signals(self):\n",
    "        conditions = [(self.df.rsi < 30) & (self.df.Close < self.df.LowBand),\n",
    "                      (self.df.rsi > 70) & (self.df.Close > self.df.HighBand)]\n",
    "        choices = ['Buy', 'Sell']\n",
    "        self.df['signal'] = np.select(conditions, choices)\n",
    "        self.df.signal = self.df.signal.shift()\n",
    "        self.df.dropna(inplace=True)\n",
    "        \n",
    "    def plot_signals(self):\n",
    "        plt.figure(figsize=(12, 5))\n",
    "        plt.plot(self.df.Open, label = 'Open Price')\n",
    "        plt.scatter(self.buy_arr.index, self.buy_arr.values, marker='^', color='g', label = 'Buy')\n",
    "        plt.scatter(self.sell_arr.index, self.sell_arr.values, marker='v', color='r', label = 'Sell')\n",
    "        plt.legend()\n",
    "        \n",
    "    def current_signal(self):\n",
    "        from termcolor import colored\n",
    "        signal = self.df.signal[len(self.df) - 1]\n",
    "        print(f'Current signal as of {self.df.index[len(self.df) - 1]}:\\n')\n",
    "        print(colored(signal, 'yellow', attrs=['bold']))\n",
    "        \n",
    "    def loop_bt(self):\n",
    "        position = False\n",
    "        buydate, selldate = [], []\n",
    "\n",
    "        for index, row in self.df.iterrows():\n",
    "            if not position:\n",
    "                if row['signal'] == 'Buy':\n",
    "                    buydate.append(index)\n",
    "                    position = True\n",
    "            if position:\n",
    "                if row['signal'] == 'Sell' or row['shifted_close'] < 0.95 * self.df.loc[buydate[-1]].Open:\n",
    "                    selldate.append(index)\n",
    "                    position = False\n",
    "            \n",
    "        self.buy_arr = self.df.loc[buydate].Open\n",
    "        self.sell_arr = self.df.loc[selldate].Open\n",
    "        \n",
    "    def calc_profit(self):\n",
    "        if self.buy_arr.index[-1] > self.sell_arr.index[-1]:\n",
    "            self.buy_arr = self.buy_arr[:-1]\n",
    "            return (self.sell_arr.values - self.buy_arr.values) / self.buy_arr.values\n",
    "        \n",
    "        #try:\n",
    "        #    if self.buy_arr.index[-1] > self.sell_arr.index[-1]:\n",
    "        #        self.buy_arr = self.buy_arr[:-1]\n",
    "        #        return (self.sell_arr.values - self.buy_arr.values) / self.buy_arr.values\n",
    "        #except:\n",
    "        #    print('No buy/sell signals')\n",
    "        #    print(f'Buy: {self.buy_arr}\\nSell: {self.sell_arr}')\n",
    "    \n",
    "    def calc_buyhold(self):\n",
    "        buyHold = (self.df['Adj Close'].pct_change() + 1).prod() - 1\n",
    "        return buyHold   "
   ]
  },
  {
   "cell_type": "code",
   "execution_count": 8,
   "metadata": {},
   "outputs": [
    {
     "name": "stdout",
     "output_type": "stream",
     "text": [
      "[*********************100%***********************]  1 of 1 completed\n",
      "None\n",
      "------   RESULTS   -----\n"
     ]
    },
    {
     "ename": "AttributeError",
     "evalue": "'backtest' object has no attribute 'cum_profit'",
     "output_type": "error",
     "traceback": [
      "\u001b[1;31m---------------------------------------------------------------------------\u001b[0m",
      "\u001b[1;31mAttributeError\u001b[0m                            Traceback (most recent call last)",
      "Cell \u001b[1;32mIn [8], line 4\u001b[0m\n\u001b[0;32m      1\u001b[0m bt \u001b[39m=\u001b[39m backtest(\u001b[39m'\u001b[39m\u001b[39mMSFT\u001b[39m\u001b[39m'\u001b[39m, \u001b[39m'\u001b[39m\u001b[39m2020-12-31\u001b[39m\u001b[39m'\u001b[39m)\n\u001b[0;32m      3\u001b[0m \u001b[39mprint\u001b[39m(\u001b[39m'\u001b[39m\u001b[39m------   RESULTS   -----\u001b[39m\u001b[39m'\u001b[39m)\n\u001b[1;32m----> 4\u001b[0m \u001b[39mprint\u001b[39m(\u001b[39mf\u001b[39m\u001b[39m'\u001b[39m\u001b[39mStrategy: \u001b[39m\u001b[39m{\u001b[39;00m\u001b[39mround\u001b[39m(bt\u001b[39m.\u001b[39;49mcum_profit,\u001b[39m4\u001b[39m)\u001b[39m*\u001b[39m\u001b[39m100\u001b[39m\u001b[39m}\u001b[39;00m\u001b[39m%\u001b[39m\u001b[39m\\n\u001b[39;00m\u001b[39mBuy/hold: \u001b[39m\u001b[39m{\u001b[39;00m\u001b[39mround\u001b[39m(bt\u001b[39m.\u001b[39mbuyHold,\u001b[39m4\u001b[39m)\u001b[39m*\u001b[39m\u001b[39m100\u001b[39m\u001b[39m}\u001b[39;00m\u001b[39m%\u001b[39m\u001b[39m\\n\u001b[39;00m\u001b[39mDifference: \u001b[39m\u001b[39m{\u001b[39;00m\u001b[39mround\u001b[39m(bt\u001b[39m.\u001b[39mcum_profit\u001b[39m-\u001b[39mbt\u001b[39m.\u001b[39mbuyHold,\u001b[39m4\u001b[39m)\u001b[39m*\u001b[39m\u001b[39m100\u001b[39m\u001b[39m}\u001b[39;00m\u001b[39m%\u001b[39m\u001b[39m'\u001b[39m)\n",
      "\u001b[1;31mAttributeError\u001b[0m: 'backtest' object has no attribute 'cum_profit'"
     ]
    }
   ],
   "source": [
    "bt = backtest('MSFT', '2020-12-31')\n",
    "\n",
    "print('------   RESULTS   -----')\n",
    "print(f'Strategy: {round(bt.cum_profit,4)*100}%\\nBuy/hold: {round(bt.buyHold,4)*100}%\\nDifference: {round(bt.cum_profit-bt.buyHold,4)*100}%')"
   ]
  },
  {
   "cell_type": "code",
   "execution_count": 10,
   "metadata": {},
   "outputs": [
    {
     "name": "stdout",
     "output_type": "stream",
     "text": [
      "[-0.07179814 -0.04821172 -0.08078596  0.27413986 -0.08406665 -0.05699096\n",
      "  0.21652512  0.25698859]\n"
     ]
    }
   ],
   "source": [
    "print((bt.sell_arr.values - bt.buy_arr.values) / bt.buy_arr.values)"
   ]
  },
  {
   "attachments": {},
   "cell_type": "markdown",
   "metadata": {},
   "source": [
    "---"
   ]
  },
  {
   "cell_type": "code",
   "execution_count": null,
   "metadata": {},
   "outputs": [],
   "source": [
    "class momentum:\n",
    "    \n",
    "    def __init__(self):\n",
    "        self.get_symbols()\n",
    "        self.get_rolling_ret()\n",
    "        \n",
    "    def get_symbols(self): # NSB model\n",
    "        self.component = pd.read_html('https://siblisresearch.com/data/historical-components-nasdaq/')[0]\n",
    "        self.component.set_index('Ticker', inplace=True)\n",
    "        self.component = self.component[self.component.columns[2:]]\n",
    "        self.component.columns = pd.to_datetime(self.component.columns)\n",
    "        self.component = self.component == 'X'\n",
    "        tickers = self.component.index.to_list()\n",
    "        self.df = yf.download(tickers, start='2016-01-01')['Adj Close']\n",
    "        self.df = self.df.dropna(axis=1, how='all')\n",
    "        self.component = self.component.loc[self.component.index.isin(self.df.columns)]\n",
    "        self.df.index = pd.to_datetime(self.df.index)\n",
    "        self.mtl = (self.df.pct_change() + 1)[1:].resample('M').prod()\n",
    "        #self.mtl.head()\n",
    "        return self.component\n",
    "        \n",
    "    def get_rolling_ret(self):\n",
    "        self.ret_12 = self.mtl.rolling(12).apply(np.prod)\n",
    "        self.ret_6 = self.mtl.rolling(6).apply(np.prod)\n",
    "        self.ret_3 = self.mtl.rolling(3).apply(np.prod)\n",
    "        return self.ret_12, self.ret_6, self.ret_3\n",
    "    \n",
    "    def get_relevant(self, date):\n",
    "        self.date = date\n",
    "        ix = np.argmax(pd.to_datetime(date) >= self.component.columns)\n",
    "        return self.component[self.component.iloc[:,ix]].index\n",
    "    \n",
    "    def filter_ret(self, date, df):\n",
    "        self.date = date\n",
    "        self.df = df\n",
    "        return self.df[self.get_relevant(date)]\n",
    "    \n",
    "    def get_top(self, date):\n",
    "        self.date = date\n",
    "        ret_12m, ret_6m, ret_3m = self.filter_ret(date,self.ret_12), self.filter_ret(date,self.ret_6), self.filter_ret(date,self.ret_3)\n",
    "        \n",
    "        top_50 = ret_12m.loc[date].nlargest(50).index\n",
    "        top_30 = ret_6m.loc[date].nlargest(30).index\n",
    "        top_10 = ret_3m.loc[date].nlargest(10).index\n",
    "        return list(top_10)"
   ]
  },
  {
   "cell_type": "code",
   "execution_count": null,
   "metadata": {},
   "outputs": [],
   "source": [
    "mom = momentum()"
   ]
  },
  {
   "cell_type": "code",
   "execution_count": null,
   "metadata": {},
   "outputs": [],
   "source": [
    "mom.get_top('2022-12-31')"
   ]
  },
  {
   "attachments": {},
   "cell_type": "markdown",
   "metadata": {},
   "source": [
    "---"
   ]
  },
  {
   "cell_type": "code",
   "execution_count": null,
   "metadata": {},
   "outputs": [],
   "source": [
    "bt.plot_bands()"
   ]
  },
  {
   "attachments": {},
   "cell_type": "markdown",
   "metadata": {},
   "source": [
    "---"
   ]
  },
  {
   "cell_type": "code",
   "execution_count": null,
   "metadata": {},
   "outputs": [],
   "source": [
    "class metrics:\n",
    "    \n",
    "    def __init__(self, symbol, start):\n",
    "        self.symbol = symbol\n",
    "        self.start = start\n",
    "        self.instance = backtest(symbol, start)\n",
    "        \n",
    "    def historical_metrics(self):\n",
    "        returns = (self.df['Adj Close'].pct_change())\n",
    "        #volatility\n",
    "        ann_volatility = returns.std()*(252**0.5)\n",
    "        mon_volatility = returns.std()*(21**0.5)  \n",
    "        #sharpe\n",
    "        sharpe = (((returns + 1).prod()**(252/self.df.shape[0])-1) - 0.03) / ann_volatility\n",
    "        #drawdown\n",
    "\n",
    "        print(f'Annaual Vol: {round(ann_volatility,2)}\\nMonthly Vol: {round(mon_volatility,2)}\\nAnnual Sharpe Ratio: {sharpe}')\n",
    "\n",
    "    def stationarity(self):\n",
    "        import warnings\n",
    "        from statsmodels.tools.sm_exceptions import InterpolationWarning\n",
    "        warnings.simplefilter('ignore', InterpolationWarning)\n",
    "\n",
    "        adf = adfuller(self.instance.df['Adj Close'])\n",
    "        kpss_test = kpss(self.instance.df['Adj Close'], regression=\"c\", nlags=\"auto\")\n",
    "\n",
    "        print(f'ADF:\\nTest-value: {adf[0]}\\np-value: {adf[1]}\\n')\n",
    "        print(f'KPSS:\\nTest-value {kpss_test[0]}\\np-value: {kpss_test[1]}')"
   ]
  },
  {
   "cell_type": "code",
   "execution_count": null,
   "metadata": {},
   "outputs": [],
   "source": [
    "ins = metrics('^GSPC', '2017-01-01')"
   ]
  },
  {
   "cell_type": "code",
   "execution_count": null,
   "metadata": {},
   "outputs": [],
   "source": [
    "ins.stationarity()"
   ]
  }
 ],
 "metadata": {
  "kernelspec": {
   "display_name": "base",
   "language": "python",
   "name": "python3"
  },
  "language_info": {
   "codemirror_mode": {
    "name": "ipython",
    "version": 3
   },
   "file_extension": ".py",
   "mimetype": "text/x-python",
   "name": "python",
   "nbconvert_exporter": "python",
   "pygments_lexer": "ipython3",
   "version": "3.9.16"
  },
  "orig_nbformat": 4,
  "vscode": {
   "interpreter": {
    "hash": "fc3776ea825f2288ceefe5f685df13be93cd02d34ac5945f3f6dcb72c7ff4efc"
   }
  }
 },
 "nbformat": 4,
 "nbformat_minor": 2
}
