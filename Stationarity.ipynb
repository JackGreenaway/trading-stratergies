{
 "cells": [
  {
   "cell_type": "code",
   "execution_count": null,
   "metadata": {},
   "outputs": [],
   "source": [
    "import yfinance as yf\n",
    "import pandas as pd\n",
    "from statsmodels.tsa.stattools import adfuller"
   ]
  },
  {
   "cell_type": "code",
   "execution_count": null,
   "metadata": {},
   "outputs": [],
   "source": [
    "SP = list(pd.read_html('https://en.wikipedia.org/wiki/List_of_S%26P_500_companies')[0]['Symbol']) # This is S&P500\n",
    "FTSE = pd.read_html('https://en.wikipedia.org/wiki/FTSE_100_Index')[4]['EPIC']\n",
    "NAS = pd.read_html('https://en.wikipedia.org/wiki/Nasdaq-100')[4]['Ticker'] # this is NASDAQ\n",
    "\n",
    "f_FTSE = []\n",
    "for i in FTSE:\n",
    "    new = i + '.L'\n",
    "    f_FTSE.append(new)\n",
    "\n",
    "symbols = list([*SP, *NAS])"
   ]
  },
  {
   "cell_type": "code",
   "execution_count": null,
   "metadata": {},
   "outputs": [],
   "source": [
    "start = '2021-01-01'\n",
    "data = yf.download(f_FTSE, start=start)['Adj Close']"
   ]
  },
  {
   "cell_type": "code",
   "execution_count": null,
   "metadata": {},
   "outputs": [],
   "source": [
    "df = data.copy()\n",
    "df = df.dropna(axis=1)"
   ]
  },
  {
   "attachments": {},
   "cell_type": "markdown",
   "metadata": {},
   "source": [
    "---\n",
    "### ADF Test"
   ]
  },
  {
   "cell_type": "code",
   "execution_count": null,
   "metadata": {},
   "outputs": [],
   "source": [
    "def adf_test(data):\n",
    "    output = []\n",
    "    for i in df:\n",
    "        adf = adfuller(data[i])[1]\n",
    "        if adf <= 0.05:\n",
    "            output.append(i)\n",
    "    return output"
   ]
  },
  {
   "cell_type": "code",
   "execution_count": null,
   "metadata": {},
   "outputs": [],
   "source": [
    "adf = adf_test(df)"
   ]
  },
  {
   "attachments": {},
   "cell_type": "markdown",
   "metadata": {},
   "source": [
    "---\n",
    "### Hurst Exponent"
   ]
  },
  {
   "cell_type": "code",
   "execution_count": null,
   "metadata": {},
   "outputs": [],
   "source": [
    "import numpy as np"
   ]
  },
  {
   "cell_type": "code",
   "execution_count": null,
   "metadata": {},
   "outputs": [],
   "source": [
    "def get_hurst_exponent(time_series, max_lag=20):\n",
    "    \"\"\"Returns the Hurst Exponent of the time series\"\"\"\n",
    "    \n",
    "    lags = range(2, max_lag)\n",
    "\n",
    "    # variances of the lagged differences\n",
    "    tau = [np.std(np.subtract(time_series[lag:], time_series[:-lag])) for lag in lags]\n",
    "\n",
    "    # calculate the slope of the log plot -> the Hurst Exponent\n",
    "    reg = np.polyfit(np.log(lags), np.log(tau), 1)\n",
    "\n",
    "    return reg[0]"
   ]
  },
  {
   "cell_type": "code",
   "execution_count": null,
   "metadata": {},
   "outputs": [],
   "source": [
    "hurst_stocks = []\n",
    "\n",
    "for i in df:\n",
    "    temp_list = []\n",
    "    for lag in [20, 100, 300, 500, 1000]:\n",
    "        hurst_exp = get_hurst_exponent(df[i].values, lag)\n",
    "        temp_list.append(hurst_exp)\n",
    "        if all(j <= 0.45 for j in temp_list): # <0.5 is mean reverting\n",
    "            hurst_stocks.append(i)\n",
    "        else:\n",
    "            continue\n",
    "        \n",
    "print(list(sorted(set(hurst_stocks))))"
   ]
  },
  {
   "attachments": {},
   "cell_type": "markdown",
   "metadata": {},
   "source": [
    "---\n",
    "### Combined List"
   ]
  },
  {
   "cell_type": "code",
   "execution_count": null,
   "metadata": {},
   "outputs": [],
   "source": [
    "fin = list(set(hurst_stocks) and set(adf))\n",
    "print(fin)"
   ]
  },
  {
   "attachments": {},
   "cell_type": "markdown",
   "metadata": {},
   "source": [
    "The issue with these metrics and the book in general (Algorithmic Trading by Ernest P. Chang), is that there isn't much alpha in them. You aren't going to create a winning strategy using ADF and Hurst Exponent"
   ]
  }
 ],
 "metadata": {
  "kernelspec": {
   "display_name": "base",
   "language": "python",
   "name": "python3"
  },
  "language_info": {
   "codemirror_mode": {
    "name": "ipython",
    "version": 3
   },
   "file_extension": ".py",
   "mimetype": "text/x-python",
   "name": "python",
   "nbconvert_exporter": "python",
   "pygments_lexer": "ipython3",
   "version": "3.9.16"
  },
  "orig_nbformat": 4,
  "vscode": {
   "interpreter": {
    "hash": "fc3776ea825f2288ceefe5f685df13be93cd02d34ac5945f3f6dcb72c7ff4efc"
   }
  }
 },
 "nbformat": 4,
 "nbformat_minor": 2
}
