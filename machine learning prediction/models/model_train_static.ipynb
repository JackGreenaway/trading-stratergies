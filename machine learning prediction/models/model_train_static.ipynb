{
 "cells": [
  {
   "cell_type": "code",
   "execution_count": 1,
   "metadata": {},
   "outputs": [],
   "source": [
    "import pandas as pd\n",
    "import numpy as np\n",
    "import matplotlib.pyplot as plt\n",
    "\n",
    "from sklearn.model_selection import train_test_split\n",
    "from sklearn.preprocessing import StandardScaler\n",
    "from sklearn.metrics import mean_squared_error\n",
    "from sqlalchemy import create_engine\n",
    "\n",
    "import tensorflow as tf\n",
    "import keras\n",
    "import keras_tuner as kt\n",
    "from keras.models import Sequential\n",
    "from keras.layers import Dense, Dropout, LSTM\n"
   ]
  },
  {
   "cell_type": "code",
   "execution_count": 2,
   "metadata": {},
   "outputs": [],
   "source": [
    "engine = create_engine(\"sqlite:///../data/price_database.db\")\n"
   ]
  },
  {
   "cell_type": "code",
   "execution_count": 3,
   "metadata": {},
   "outputs": [],
   "source": [
    "raw_data = pd.read_sql(\"SELECT * FROM BTC_price_1m\", engine)\n",
    "raw_data.set_index(\"Datetime\", inplace=True)\n"
   ]
  },
  {
   "cell_type": "code",
   "execution_count": 4,
   "metadata": {},
   "outputs": [],
   "source": [
    "x = raw_data.drop([\"Close\", \"Adj Close\", \"pct_change\"], axis=1)\n",
    "y = raw_data.filter([\"pct_change\"], axis=1)\n"
   ]
  },
  {
   "cell_type": "code",
   "execution_count": 5,
   "metadata": {},
   "outputs": [],
   "source": [
    "scaler = StandardScaler()\n",
    "x_scaled = scaler.fit_transform(x)\n",
    "y_scaled = scaler.fit_transform(y)\n"
   ]
  },
  {
   "cell_type": "code",
   "execution_count": 6,
   "metadata": {},
   "outputs": [],
   "source": [
    "x_train, x_test, y_train, y_test = train_test_split(x_scaled, y_scaled, test_size=0.1)\n"
   ]
  },
  {
   "cell_type": "code",
   "execution_count": 7,
   "metadata": {},
   "outputs": [],
   "source": [
    "def create_sequences(X_data, Y_data, window_size):\n",
    "    X, Y = [], []\n",
    "    for i in range(len(X_data) - window_size):\n",
    "        X.append(X_data[i : i + window_size])\n",
    "        Y.append(Y_data[i + window_size])\n",
    "    return np.array(X), np.array(Y)"
   ]
  },
  {
   "cell_type": "code",
   "execution_count": 8,
   "metadata": {},
   "outputs": [],
   "source": [
    "x_train, y_train = create_sequences(x_train, y_train, 15)\n",
    "x_test, y_test = create_sequences(x_test, y_test, 15)\n"
   ]
  },
  {
   "cell_type": "code",
   "execution_count": 9,
   "metadata": {},
   "outputs": [
    {
     "data": {
      "text/plain": [
       "((919, 15, 4), (919, 1))"
      ]
     },
     "execution_count": 9,
     "metadata": {},
     "output_type": "execute_result"
    }
   ],
   "source": [
    "x_test.shape, y_test.shape\n"
   ]
  },
  {
   "cell_type": "code",
   "execution_count": 36,
   "metadata": {},
   "outputs": [],
   "source": [
    "def model_builder():\n",
    "    model = Sequential()\n",
    "\n",
    "    model.add(\n",
    "        LSTM(\n",
    "            50, input_shape=(x_train.shape[1], x_train.shape[2]), return_sequences=True\n",
    "        )\n",
    "    )\n",
    "    model.add(LSTM(32, activation=\"relu\", return_sequences=False))\n",
    "    model.add(Dense(128, activation=\"relu\"))\n",
    "    model.add(Dense(x_test.shape[1]))\n",
    "\n",
    "    model.compile(optimizer=\"adam\", loss=\"mse\")\n",
    "\n",
    "    return model"
   ]
  },
  {
   "cell_type": "code",
   "execution_count": 37,
   "metadata": {},
   "outputs": [],
   "source": [
    "earlyStop = [tf.keras.callbacks.EarlyStopping(\"val_loss\", patience=2)]"
   ]
  },
  {
   "cell_type": "code",
   "execution_count": 38,
   "metadata": {},
   "outputs": [],
   "source": [
    "model = model_builder()\n"
   ]
  },
  {
   "cell_type": "code",
   "execution_count": 42,
   "metadata": {},
   "outputs": [
    {
     "name": "stdout",
     "output_type": "stream",
     "text": [
      "Epoch 1/20\n",
      "210/210 [==============================] - 3s 14ms/step - loss: 0.9376 - val_loss: 1.1753\n",
      "Epoch 2/20\n",
      "210/210 [==============================] - 3s 13ms/step - loss: 0.9374 - val_loss: 1.1781\n",
      "Epoch 3/20\n",
      "210/210 [==============================] - 3s 16ms/step - loss: 0.9375 - val_loss: 1.1757\n",
      "Epoch 4/20\n",
      "210/210 [==============================] - 4s 18ms/step - loss: 0.9375 - val_loss: 1.1753\n",
      "Epoch 5/20\n",
      "210/210 [==============================] - 4s 17ms/step - loss: 0.9373 - val_loss: 1.1752\n",
      "Epoch 6/20\n",
      "210/210 [==============================] - 4s 18ms/step - loss: 0.9373 - val_loss: 1.1759\n",
      "Epoch 7/20\n",
      "210/210 [==============================] - 4s 17ms/step - loss: 0.9368 - val_loss: 1.1749\n",
      "Epoch 8/20\n",
      "210/210 [==============================] - 4s 17ms/step - loss: 0.9360 - val_loss: 1.1748\n",
      "Epoch 9/20\n",
      "210/210 [==============================] - 4s 18ms/step - loss: 0.9361 - val_loss: 1.1742\n",
      "Epoch 10/20\n",
      "210/210 [==============================] - 4s 17ms/step - loss: 0.9353 - val_loss: 1.1800\n",
      "Epoch 11/20\n",
      "210/210 [==============================] - 4s 17ms/step - loss: 0.9349 - val_loss: 1.1786\n",
      "Epoch 12/20\n",
      "210/210 [==============================] - 4s 19ms/step - loss: 0.9328 - val_loss: 1.1756\n",
      "Epoch 13/20\n",
      "210/210 [==============================] - 4s 17ms/step - loss: 0.9313 - val_loss: 1.1790\n",
      "Epoch 14/20\n",
      "210/210 [==============================] - 4s 18ms/step - loss: 0.9290 - val_loss: 1.1818\n",
      "Epoch 15/20\n",
      "210/210 [==============================] - 4s 17ms/step - loss: 0.9240 - val_loss: 1.1869\n",
      "Epoch 16/20\n",
      "210/210 [==============================] - 4s 17ms/step - loss: 0.9211 - val_loss: 1.1824\n",
      "Epoch 17/20\n",
      "210/210 [==============================] - 4s 17ms/step - loss: 0.9178 - val_loss: 1.1850\n",
      "Epoch 18/20\n",
      "210/210 [==============================] - 4s 17ms/step - loss: 0.9107 - val_loss: 1.1866\n",
      "Epoch 19/20\n",
      "210/210 [==============================] - 4s 17ms/step - loss: 0.9049 - val_loss: 1.1962\n",
      "Epoch 20/20\n",
      "210/210 [==============================] - 4s 18ms/step - loss: 0.9000 - val_loss: 1.1891\n"
     ]
    }
   ],
   "source": [
    "trained_model = model.fit(\n",
    "    x_train, y_train, epochs=20, batch_size=32, validation_split=0.2\n",
    ")"
   ]
  },
  {
   "cell_type": "code",
   "execution_count": 43,
   "metadata": {},
   "outputs": [
    {
     "data": {
      "text/plain": [
       "<matplotlib.legend.Legend at 0x27cb3780700>"
      ]
     },
     "execution_count": 43,
     "metadata": {},
     "output_type": "execute_result"
    },
    {
     "data": {
      "image/png": "[encoded data removed]",
      "text/plain": [
       "<Figure size 600x400 with 2 Axes>"
      ]
     },
     "metadata": {},
     "output_type": "display_data"
    }
   ],
   "source": [
    "fig, (ax1) = plt.subplots(figsize=(6, 4))\n",
    "fig.suptitle(\"Evaluation of Model Training\")\n",
    "ax2 = ax1.twinx()\n",
    "\n",
    "ax1.plot(trained_model.history[\"val_loss\"], label=\"Val_loss\")\n",
    "ax1.set_ylabel(\"Val_loss\")\n",
    "ax1.set_xlabel(\"Epoch\")\n",
    "\n",
    "ax2.plot(trained_model.history[\"loss\"], color=\"r\", label=\"Loss\")\n",
    "ax2.set_ylabel(\"Loss\")\n",
    "ax2.set_xlabel(\"Epoch\")\n",
    "\n",
    "fig.legend()\n"
   ]
  },
  {
   "cell_type": "code",
   "execution_count": null,
   "metadata": {},
   "outputs": [],
   "source": [
    "y_pred = hpModel.predict(x_test)\n"
   ]
  },
  {
   "cell_type": "code",
   "execution_count": null,
   "metadata": {},
   "outputs": [],
   "source": [
    "y_pred = pd.DataFrame(scaler.inverse_transform(y_pred))\n"
   ]
  },
  {
   "cell_type": "code",
   "execution_count": null,
   "metadata": {},
   "outputs": [],
   "source": [
    "results = pd.DataFrame()\n",
    "results[\"y_true\"] = y_test\n",
    "results[\"y_pred\"] = y_pred.values\n"
   ]
  },
  {
   "cell_type": "code",
   "execution_count": null,
   "metadata": {},
   "outputs": [],
   "source": [
    "mean_squared_error(results[\"y_true\"], results[\"y_pred\"])\n"
   ]
  },
  {
   "cell_type": "code",
   "execution_count": null,
   "metadata": {},
   "outputs": [],
   "source": [
    "results.plot()\n"
   ]
  },
  {
   "cell_type": "code",
   "execution_count": null,
   "metadata": {},
   "outputs": [],
   "source": []
  }
 ],
 "metadata": {
  "kernelspec": {
   "display_name": "Python 3",
   "language": "python",
   "name": "python3"
  },
  "language_info": {
   "codemirror_mode": {
    "name": "ipython",
    "version": 3
   },
   "file_extension": ".py",
   "mimetype": "text/x-python",
   "name": "python",
   "nbconvert_exporter": "python",
   "pygments_lexer": "ipython3",
   "version": "3.9.13"
  },
  "orig_nbformat": 4
 },
 "nbformat": 4,
 "nbformat_minor": 2
}
