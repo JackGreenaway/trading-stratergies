{
 "cells": [
  {
   "cell_type": "code",
   "execution_count": 1,
   "metadata": {},
   "outputs": [],
   "source": [
    "import pandas as pd\n",
    "import yfinance as yf\n",
    "import numpy as np\n",
    "from datetime import date, timedelta"
   ]
  },
  {
   "cell_type": "code",
   "execution_count": 2,
   "metadata": {},
   "outputs": [],
   "source": [
    "symbols = pd.read_html('https://en.wikipedia.org/wiki/List_of_S%26P_500_companies')[0] # This is S&P500\n",
    "symbols = symbols.Symbol.to_list()  \n",
    "\n",
    "#symbols = pd.read_html('https://en.wikipedia.org/wiki/Nasdaq-100')[4] # this is NASDAQ\n",
    "#symbols = symbols.Ticker.to_list()  "
   ]
  },
  {
   "cell_type": "code",
   "execution_count": 3,
   "metadata": {},
   "outputs": [],
   "source": [
    "start_date = '2010-01-01'"
   ]
  },
  {
   "cell_type": "code",
   "execution_count": 4,
   "metadata": {},
   "outputs": [
    {
     "name": "stdout",
     "output_type": "stream",
     "text": [
      "[*********************100%***********************]  503 of 503 completed\n",
      "\n",
      "2 Failed downloads:\n",
      "- BRK.B: No timezone found, symbol may be delisted\n",
      "- BF.B: No data found for this date range, symbol may be delisted\n"
     ]
    }
   ],
   "source": [
    "data = yf.download(symbols,start=start_date)['Adj Close']"
   ]
  },
  {
   "cell_type": "code",
   "execution_count": 5,
   "metadata": {},
   "outputs": [],
   "source": [
    "df = data.copy()\n",
    "df.index = pd.to_datetime(df.index)"
   ]
  },
  {
   "attachments": {},
   "cell_type": "markdown",
   "metadata": {},
   "source": [
    "## <center>Format Data</center>"
   ]
  },
  {
   "cell_type": "code",
   "execution_count": 6,
   "metadata": {},
   "outputs": [
    {
     "data": {
      "text/html": [
       "<div>\n",
       "<style scoped>\n",
       "    .dataframe tbody tr th:only-of-type {\n",
       "        vertical-align: middle;\n",
       "    }\n",
       "\n",
       "    .dataframe tbody tr th {\n",
       "        vertical-align: top;\n",
       "    }\n",
       "\n",
       "    .dataframe thead th {\n",
       "        text-align: right;\n",
       "    }\n",
       "</style>\n",
       "<table border=\"1\" class=\"dataframe\">\n",
       "  <thead>\n",
       "    <tr style=\"text-align: right;\">\n",
       "      <th></th>\n",
       "      <th>A</th>\n",
       "      <th>AAL</th>\n",
       "      <th>AAP</th>\n",
       "      <th>AAPL</th>\n",
       "      <th>ABBV</th>\n",
       "      <th>ABC</th>\n",
       "      <th>ABT</th>\n",
       "      <th>ACGL</th>\n",
       "      <th>ACN</th>\n",
       "      <th>ADBE</th>\n",
       "      <th>...</th>\n",
       "      <th>WYNN</th>\n",
       "      <th>XEL</th>\n",
       "      <th>XOM</th>\n",
       "      <th>XRAY</th>\n",
       "      <th>XYL</th>\n",
       "      <th>YUM</th>\n",
       "      <th>ZBH</th>\n",
       "      <th>ZBRA</th>\n",
       "      <th>ZION</th>\n",
       "      <th>ZTS</th>\n",
       "    </tr>\n",
       "    <tr>\n",
       "      <th>Date</th>\n",
       "      <th></th>\n",
       "      <th></th>\n",
       "      <th></th>\n",
       "      <th></th>\n",
       "      <th></th>\n",
       "      <th></th>\n",
       "      <th></th>\n",
       "      <th></th>\n",
       "      <th></th>\n",
       "      <th></th>\n",
       "      <th></th>\n",
       "      <th></th>\n",
       "      <th></th>\n",
       "      <th></th>\n",
       "      <th></th>\n",
       "      <th></th>\n",
       "      <th></th>\n",
       "      <th></th>\n",
       "      <th></th>\n",
       "      <th></th>\n",
       "      <th></th>\n",
       "    </tr>\n",
       "  </thead>\n",
       "  <tbody>\n",
       "    <tr>\n",
       "      <th>2010-01-31</th>\n",
       "      <td>0.895527</td>\n",
       "      <td>1.113208</td>\n",
       "      <td>0.976969</td>\n",
       "      <td>0.897435</td>\n",
       "      <td>1.0</td>\n",
       "      <td>1.023657</td>\n",
       "      <td>0.979189</td>\n",
       "      <td>0.994302</td>\n",
       "      <td>0.974328</td>\n",
       "      <td>0.870855</td>\n",
       "      <td>...</td>\n",
       "      <td>0.967480</td>\n",
       "      <td>0.985769</td>\n",
       "      <td>0.931742</td>\n",
       "      <td>0.949052</td>\n",
       "      <td>1.0</td>\n",
       "      <td>0.980644</td>\n",
       "      <td>0.938354</td>\n",
       "      <td>0.910359</td>\n",
       "      <td>1.423106</td>\n",
       "      <td>1.0</td>\n",
       "    </tr>\n",
       "    <tr>\n",
       "      <th>2010-02-28</th>\n",
       "      <td>1.122369</td>\n",
       "      <td>1.380414</td>\n",
       "      <td>1.034220</td>\n",
       "      <td>1.065396</td>\n",
       "      <td>1.0</td>\n",
       "      <td>1.031652</td>\n",
       "      <td>1.025312</td>\n",
       "      <td>1.034107</td>\n",
       "      <td>0.975116</td>\n",
       "      <td>1.072755</td>\n",
       "      <td>...</td>\n",
       "      <td>1.027311</td>\n",
       "      <td>1.001443</td>\n",
       "      <td>1.015428</td>\n",
       "      <td>0.986877</td>\n",
       "      <td>1.0</td>\n",
       "      <td>0.985676</td>\n",
       "      <td>1.017934</td>\n",
       "      <td>1.094636</td>\n",
       "      <td>0.977876</td>\n",
       "      <td>1.0</td>\n",
       "    </tr>\n",
       "    <tr>\n",
       "      <th>2010-03-31</th>\n",
       "      <td>1.093134</td>\n",
       "      <td>1.002729</td>\n",
       "      <td>1.028856</td>\n",
       "      <td>1.148471</td>\n",
       "      <td>1.0</td>\n",
       "      <td>1.031384</td>\n",
       "      <td>0.970523</td>\n",
       "      <td>1.030684</td>\n",
       "      <td>1.049537</td>\n",
       "      <td>1.020779</td>\n",
       "      <td>...</td>\n",
       "      <td>1.192858</td>\n",
       "      <td>1.030484</td>\n",
       "      <td>1.030462</td>\n",
       "      <td>1.055621</td>\n",
       "      <td>1.0</td>\n",
       "      <td>1.136714</td>\n",
       "      <td>1.032618</td>\n",
       "      <td>1.036052</td>\n",
       "      <td>1.177994</td>\n",
       "      <td>1.0</td>\n",
       "    </tr>\n",
       "    <tr>\n",
       "      <th>2010-04-30</th>\n",
       "      <td>1.054376</td>\n",
       "      <td>0.961905</td>\n",
       "      <td>1.075858</td>\n",
       "      <td>1.111021</td>\n",
       "      <td>1.0</td>\n",
       "      <td>1.066736</td>\n",
       "      <td>0.979328</td>\n",
       "      <td>0.991213</td>\n",
       "      <td>1.049417</td>\n",
       "      <td>0.949958</td>\n",
       "      <td>...</td>\n",
       "      <td>1.163655</td>\n",
       "      <td>1.025943</td>\n",
       "      <td>1.011795</td>\n",
       "      <td>1.050746</td>\n",
       "      <td>1.0</td>\n",
       "      <td>1.112380</td>\n",
       "      <td>1.028886</td>\n",
       "      <td>0.981419</td>\n",
       "      <td>1.315476</td>\n",
       "      <td>1.0</td>\n",
       "    </tr>\n",
       "    <tr>\n",
       "      <th>2010-05-31</th>\n",
       "      <td>0.892443</td>\n",
       "      <td>1.248940</td>\n",
       "      <td>1.147672</td>\n",
       "      <td>0.983875</td>\n",
       "      <td>1.0</td>\n",
       "      <td>1.016526</td>\n",
       "      <td>0.929632</td>\n",
       "      <td>0.972744</td>\n",
       "      <td>0.859762</td>\n",
       "      <td>0.954762</td>\n",
       "      <td>...</td>\n",
       "      <td>0.953687</td>\n",
       "      <td>0.942069</td>\n",
       "      <td>0.898194</td>\n",
       "      <td>0.884856</td>\n",
       "      <td>1.0</td>\n",
       "      <td>0.965347</td>\n",
       "      <td>0.918240</td>\n",
       "      <td>0.946644</td>\n",
       "      <td>0.833923</td>\n",
       "      <td>1.0</td>\n",
       "    </tr>\n",
       "  </tbody>\n",
       "</table>\n",
       "<p>5 rows × 503 columns</p>\n",
       "</div>"
      ],
      "text/plain": [
       "                   A       AAL       AAP      AAPL  ABBV       ABC       ABT  \\\n",
       "Date                                                                           \n",
       "2010-01-31  0.895527  1.113208  0.976969  0.897435   1.0  1.023657  0.979189   \n",
       "2010-02-28  1.122369  1.380414  1.034220  1.065396   1.0  1.031652  1.025312   \n",
       "2010-03-31  1.093134  1.002729  1.028856  1.148471   1.0  1.031384  0.970523   \n",
       "2010-04-30  1.054376  0.961905  1.075858  1.111021   1.0  1.066736  0.979328   \n",
       "2010-05-31  0.892443  1.248940  1.147672  0.983875   1.0  1.016526  0.929632   \n",
       "\n",
       "                ACGL       ACN      ADBE  ...      WYNN       XEL       XOM  \\\n",
       "Date                                      ...                                 \n",
       "2010-01-31  0.994302  0.974328  0.870855  ...  0.967480  0.985769  0.931742   \n",
       "2010-02-28  1.034107  0.975116  1.072755  ...  1.027311  1.001443  1.015428   \n",
       "2010-03-31  1.030684  1.049537  1.020779  ...  1.192858  1.030484  1.030462   \n",
       "2010-04-30  0.991213  1.049417  0.949958  ...  1.163655  1.025943  1.011795   \n",
       "2010-05-31  0.972744  0.859762  0.954762  ...  0.953687  0.942069  0.898194   \n",
       "\n",
       "                XRAY  XYL       YUM       ZBH      ZBRA      ZION  ZTS  \n",
       "Date                                                                    \n",
       "2010-01-31  0.949052  1.0  0.980644  0.938354  0.910359  1.423106  1.0  \n",
       "2010-02-28  0.986877  1.0  0.985676  1.017934  1.094636  0.977876  1.0  \n",
       "2010-03-31  1.055621  1.0  1.136714  1.032618  1.036052  1.177994  1.0  \n",
       "2010-04-30  1.050746  1.0  1.112380  1.028886  0.981419  1.315476  1.0  \n",
       "2010-05-31  0.884856  1.0  0.965347  0.918240  0.946644  0.833923  1.0  \n",
       "\n",
       "[5 rows x 503 columns]"
      ]
     },
     "execution_count": 6,
     "metadata": {},
     "output_type": "execute_result"
    }
   ],
   "source": [
    "mtl = (df.pct_change() + 1)[1:].resample('M').prod()\n",
    "mtl.head()"
   ]
  },
  {
   "attachments": {},
   "cell_type": "markdown",
   "metadata": {},
   "source": [
    "---"
   ]
  },
  {
   "attachments": {},
   "cell_type": "markdown",
   "metadata": {},
   "source": [
    "## <center>Strategy</center>"
   ]
  },
  {
   "cell_type": "code",
   "execution_count": 7,
   "metadata": {},
   "outputs": [],
   "source": [
    "def get_rolling_ret(df,n):\n",
    "    return df.rolling(n).apply(np.prod)"
   ]
  },
  {
   "cell_type": "code",
   "execution_count": 8,
   "metadata": {},
   "outputs": [],
   "source": [
    "ret_12, ret_6, ret_3 = get_rolling_ret(mtl,12), get_rolling_ret(mtl,6), get_rolling_ret(mtl,3)"
   ]
  },
  {
   "cell_type": "code",
   "execution_count": 9,
   "metadata": {},
   "outputs": [],
   "source": [
    "def get_top(date):\n",
    "    top_50 = ret_12.loc[date].nlargest(50).index\n",
    "    top_30 = ret_6.loc[date, top_50].nlargest(30).index\n",
    "    top_10 = ret_3.loc[date, top_30].nlargest(10).index\n",
    "    return(top_10)"
   ]
  },
  {
   "attachments": {},
   "cell_type": "markdown",
   "metadata": {},
   "source": [
    "---"
   ]
  },
  {
   "attachments": {},
   "cell_type": "markdown",
   "metadata": {},
   "source": [
    "### Get top function for picks of the month (i.e month before)"
   ]
  },
  {
   "cell_type": "code",
   "execution_count": 10,
   "metadata": {},
   "outputs": [],
   "source": [
    "today = date.today()\n",
    "days = int(today.strftime(\"%d\"))\n",
    "days = timedelta(days)\n",
    "\n",
    "last_month = today - days\n",
    "last_month = last_month.strftime(\"%Y-%m-%d\")"
   ]
  },
  {
   "cell_type": "code",
   "execution_count": 11,
   "metadata": {},
   "outputs": [
    {
     "data": {
      "text/plain": [
       "['GE', 'FSLR', 'GEHC', 'ANET', 'WYNN', 'ON', 'CDNS', 'PHM', 'GWW', 'BWA']"
      ]
     },
     "execution_count": 11,
     "metadata": {},
     "output_type": "execute_result"
    }
   ],
   "source": [
    "list(get_top(last_month))"
   ]
  },
  {
   "attachments": {},
   "cell_type": "markdown",
   "metadata": {},
   "source": [
    "---"
   ]
  },
  {
   "cell_type": "code",
   "execution_count": 12,
   "metadata": {},
   "outputs": [],
   "source": [
    "portfolio = mtl.loc['2010-12-31':, get_top('2010-12-31')][1:2]"
   ]
  },
  {
   "cell_type": "code",
   "execution_count": 13,
   "metadata": {},
   "outputs": [],
   "source": [
    "def performance(date):\n",
    "    portfolio = mtl.loc[date:,get_top(date)][1:2]\n",
    "    return portfolio.mean(axis=1).values[0] "
   ]
  },
  {
   "cell_type": "code",
   "execution_count": 14,
   "metadata": {},
   "outputs": [
    {
     "data": {
      "text/plain": [
       "1.0303227766688152"
      ]
     },
     "execution_count": 14,
     "metadata": {},
     "output_type": "execute_result"
    }
   ],
   "source": [
    "performance('2010-12-31') "
   ]
  },
  {
   "attachments": {},
   "cell_type": "markdown",
   "metadata": {},
   "source": [
    "## <center>Calculate Performance and Compare</center>"
   ]
  },
  {
   "cell_type": "code",
   "execution_count": 15,
   "metadata": {},
   "outputs": [],
   "source": [
    "returns = []\n",
    "\n",
    "for date in mtl.index[:-1]:\n",
    "    returns.append(performance(date))"
   ]
  },
  {
   "cell_type": "code",
   "execution_count": 16,
   "metadata": {},
   "outputs": [
    {
     "data": {
      "text/plain": [
       "<Axes: xlabel='Date'>"
      ]
     },
     "execution_count": 16,
     "metadata": {},
     "output_type": "execute_result"
    },
    {
     "data": {
      "image/png": "[encoded data removed]",
      "text/plain": [
       "<Figure size 640x480 with 1 Axes>"
      ]
     },
     "metadata": {},
     "output_type": "display_data"
    }
   ],
   "source": [
    "returns = pd.Series([i - 0.01 for i in returns], index=mtl.index[1:]).cumprod()\n",
    "returns.plot()"
   ]
  },
  {
   "cell_type": "code",
   "execution_count": 17,
   "metadata": {},
   "outputs": [
    {
     "name": "stdout",
     "output_type": "stream",
     "text": [
      "[*********************100%***********************]  1 of 1 completed\n"
     ]
    },
    {
     "data": {
      "text/plain": [
       "<Axes: xlabel='Date'>"
      ]
     },
     "execution_count": 17,
     "metadata": {},
     "output_type": "execute_result"
    },
    {
     "data": {
      "image/png": "[encoded data removed]",
      "text/plain": [
       "<Figure size 640x480 with 1 Axes>"
      ]
     },
     "metadata": {},
     "output_type": "display_data"
    }
   ],
   "source": [
    "sp = yf.download('^GSPC',start=start_date)['Adj Close']\n",
    "\n",
    "sp = (sp.pct_change() + 1).cumprod()[1:]\n",
    "sp.plot()"
   ]
  },
  {
   "cell_type": "code",
   "execution_count": 18,
   "metadata": {},
   "outputs": [
    {
     "data": {
      "text/plain": [
       "'3.63'"
      ]
     },
     "execution_count": 18,
     "metadata": {},
     "output_type": "execute_result"
    }
   ],
   "source": [
    "\"%.2f\" % sp[-1]\n",
    "# S&P500 returns"
   ]
  },
  {
   "cell_type": "code",
   "execution_count": 19,
   "metadata": {},
   "outputs": [
    {
     "data": {
      "text/plain": [
       "'6.44'"
      ]
     },
     "execution_count": 19,
     "metadata": {},
     "output_type": "execute_result"
    }
   ],
   "source": [
    "\"%.2f\" % returns[-1]\n",
    "# Strategy returns"
   ]
  },
  {
   "attachments": {},
   "cell_type": "markdown",
   "metadata": {},
   "source": [
    "---"
   ]
  },
  {
   "attachments": {},
   "cell_type": "markdown",
   "metadata": {},
   "source": [
    "- Keep in mind survivorship bias, we cannot say for certain that this will continue\n",
    "    - What about stocks that have gone under?\n",
    "    - We're overlooking poor stocks, only the upwards general trend"
   ]
  },
  {
   "attachments": {},
   "cell_type": "markdown",
   "metadata": {},
   "source": [
    "[YouTube walkthrough](https://www.youtube.com/watch?v=bUejGzheCac)"
   ]
  }
 ],
 "metadata": {
  "kernelspec": {
   "display_name": "base",
   "language": "python",
   "name": "python3"
  },
  "language_info": {
   "codemirror_mode": {
    "name": "ipython",
    "version": 3
   },
   "file_extension": ".py",
   "mimetype": "text/x-python",
   "name": "python",
   "nbconvert_exporter": "python",
   "pygments_lexer": "ipython3",
   "version": "3.9.13"
  },
  "orig_nbformat": 4,
  "vscode": {
   "interpreter": {
    "hash": "fc3776ea825f2288ceefe5f685df13be93cd02d34ac5945f3f6dcb72c7ff4efc"
   }
  }
 },
 "nbformat": 4,
 "nbformat_minor": 2
}
