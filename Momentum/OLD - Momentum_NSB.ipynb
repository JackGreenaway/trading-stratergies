{
 "cells": [
  {
   "attachments": {},
   "cell_type": "markdown",
   "metadata": {},
   "source": [
    "### This code no longer works as the component link has changed, and now requires a paywall"
   ]
  },
  {
   "cell_type": "code",
   "execution_count": 1,
   "metadata": {},
   "outputs": [],
   "source": [
    "import pandas as pd\n",
    "import yfinance as yf\n",
    "import numpy as np"
   ]
  },
  {
   "cell_type": "code",
   "execution_count": 2,
   "metadata": {},
   "outputs": [
    {
     "data": {
      "text/html": [
       "<div>\n",
       "<style scoped>\n",
       "    .dataframe tbody tr th:only-of-type {\n",
       "        vertical-align: middle;\n",
       "    }\n",
       "\n",
       "    .dataframe tbody tr th {\n",
       "        vertical-align: top;\n",
       "    }\n",
       "\n",
       "    .dataframe thead th {\n",
       "        text-align: right;\n",
       "    }\n",
       "</style>\n",
       "<table border=\"1\" class=\"dataframe\">\n",
       "  <thead>\n",
       "    <tr style=\"text-align: right;\">\n",
       "      <th></th>\n",
       "      <th>0</th>\n",
       "    </tr>\n",
       "  </thead>\n",
       "  <tbody>\n",
       "    <tr>\n",
       "      <th>0</th>\n",
       "      <td>Giselda Ribeiro,</td>\n",
       "    </tr>\n",
       "    <tr>\n",
       "      <th>1</th>\n",
       "      <td>giselda(at)siblisresearch.com</td>\n",
       "    </tr>\n",
       "    <tr>\n",
       "      <th>2</th>\n",
       "      <td>+63 9 178 6465 242</td>\n",
       "    </tr>\n",
       "  </tbody>\n",
       "</table>\n",
       "</div>"
      ],
      "text/plain": [
       "                               0\n",
       "0               Giselda Ribeiro,\n",
       "1  giselda(at)siblisresearch.com\n",
       "2             +63 9 178 6465 242"
      ]
     },
     "execution_count": 2,
     "metadata": {},
     "output_type": "execute_result"
    }
   ],
   "source": [
    "component = pd.read_html('https://siblisresearch.com/data/historical-components-nasdaq/')[0]\n",
    "component"
   ]
  },
  {
   "cell_type": "code",
   "execution_count": 3,
   "metadata": {},
   "outputs": [
    {
     "ename": "KeyError",
     "evalue": "\"None of ['Ticker'] are in the columns\"",
     "output_type": "error",
     "traceback": [
      "\u001b[1;31m---------------------------------------------------------------------------\u001b[0m",
      "\u001b[1;31mKeyError\u001b[0m                                  Traceback (most recent call last)",
      "Cell \u001b[1;32mIn[3], line 1\u001b[0m\n\u001b[1;32m----> 1\u001b[0m component\u001b[39m.\u001b[39;49mset_index(\u001b[39m'\u001b[39;49m\u001b[39mTicker\u001b[39;49m\u001b[39m'\u001b[39;49m, inplace\u001b[39m=\u001b[39;49m\u001b[39mTrue\u001b[39;49;00m)\n",
      "File \u001b[1;32mc:\\Python\\Python39\\lib\\site-packages\\pandas\\util\\_decorators.py:331\u001b[0m, in \u001b[0;36mdeprecate_nonkeyword_arguments.<locals>.decorate.<locals>.wrapper\u001b[1;34m(*args, **kwargs)\u001b[0m\n\u001b[0;32m    325\u001b[0m \u001b[39mif\u001b[39;00m \u001b[39mlen\u001b[39m(args) \u001b[39m>\u001b[39m num_allow_args:\n\u001b[0;32m    326\u001b[0m     warnings\u001b[39m.\u001b[39mwarn(\n\u001b[0;32m    327\u001b[0m         msg\u001b[39m.\u001b[39mformat(arguments\u001b[39m=\u001b[39m_format_argument_list(allow_args)),\n\u001b[0;32m    328\u001b[0m         \u001b[39mFutureWarning\u001b[39;00m,\n\u001b[0;32m    329\u001b[0m         stacklevel\u001b[39m=\u001b[39mfind_stack_level(),\n\u001b[0;32m    330\u001b[0m     )\n\u001b[1;32m--> 331\u001b[0m \u001b[39mreturn\u001b[39;00m func(\u001b[39m*\u001b[39margs, \u001b[39m*\u001b[39m\u001b[39m*\u001b[39mkwargs)\n",
      "File \u001b[1;32mc:\\Python\\Python39\\lib\\site-packages\\pandas\\core\\frame.py:6012\u001b[0m, in \u001b[0;36mDataFrame.set_index\u001b[1;34m(self, keys, drop, append, inplace, verify_integrity)\u001b[0m\n\u001b[0;32m   6009\u001b[0m                 missing\u001b[39m.\u001b[39mappend(col)\n\u001b[0;32m   6011\u001b[0m \u001b[39mif\u001b[39;00m missing:\n\u001b[1;32m-> 6012\u001b[0m     \u001b[39mraise\u001b[39;00m \u001b[39mKeyError\u001b[39;00m(\u001b[39mf\u001b[39m\u001b[39m\"\u001b[39m\u001b[39mNone of \u001b[39m\u001b[39m{\u001b[39;00mmissing\u001b[39m}\u001b[39;00m\u001b[39m are in the columns\u001b[39m\u001b[39m\"\u001b[39m)\n\u001b[0;32m   6014\u001b[0m \u001b[39mif\u001b[39;00m inplace:\n\u001b[0;32m   6015\u001b[0m     frame \u001b[39m=\u001b[39m \u001b[39mself\u001b[39m\n",
      "\u001b[1;31mKeyError\u001b[0m: \"None of ['Ticker'] are in the columns\""
     ]
    }
   ],
   "source": [
    "component.set_index('Ticker', inplace=True)"
   ]
  },
  {
   "cell_type": "code",
   "execution_count": null,
   "metadata": {},
   "outputs": [],
   "source": [
    "component = component[component.columns[2:]]"
   ]
  },
  {
   "cell_type": "code",
   "execution_count": null,
   "metadata": {},
   "outputs": [],
   "source": [
    "component.columns = pd.to_datetime(component.columns)"
   ]
  },
  {
   "cell_type": "code",
   "execution_count": null,
   "metadata": {},
   "outputs": [],
   "source": [
    "component = component == 'X'"
   ]
  },
  {
   "cell_type": "code",
   "execution_count": null,
   "metadata": {},
   "outputs": [
    {
     "name": "stdout",
     "output_type": "stream",
     "text": [
      "[*********************100%***********************]  152 of 152 completed\n",
      "\n",
      "16 Failed downloads:\n",
      "- VIAB: No timezone found, symbol may be delisted\n",
      "- YHOO: No data found for this date range, symbol may be delisted\n",
      "- WLTW: No timezone found, symbol may be delisted\n",
      "- DISCK: No timezone found, symbol may be delisted\n",
      "- NLOK: No timezone found, symbol may be delisted\n",
      "- CELG: No timezone found, symbol may be delisted\n",
      "- CTXS: No timezone found, symbol may be delisted\n",
      "- XLNX: No timezone found, symbol may be delisted\n",
      "- CERN: No timezone found, symbol may be delisted\n",
      "- MXIM: No timezone found, symbol may be delisted\n",
      "- FOX (OLD): No timezone found, symbol may be delisted\n",
      "- FOXA (OLD): No timezone found, symbol may be delisted\n",
      "- LVNTA: No data found for this date range, symbol may be delisted\n",
      "- DISCA: No timezone found, symbol may be delisted\n",
      "- ALXN: No timezone found, symbol may be delisted\n",
      "- FB: No timezone found, symbol may be delisted\n"
     ]
    }
   ],
   "source": [
    "tickers = component.index.to_list()\n",
    "df = yf.download(tickers, start='2016-01-01')['Adj Close']"
   ]
  },
  {
   "cell_type": "code",
   "execution_count": null,
   "metadata": {},
   "outputs": [],
   "source": [
    "df = df.dropna(axis=1, how='all')"
   ]
  },
  {
   "cell_type": "code",
   "execution_count": null,
   "metadata": {},
   "outputs": [],
   "source": [
    "component = component.loc[component.index.isin(df.columns)]"
   ]
  },
  {
   "cell_type": "code",
   "execution_count": null,
   "metadata": {},
   "outputs": [
    {
     "data": {
      "text/html": [
       "<div>\n",
       "<style scoped>\n",
       "    .dataframe tbody tr th:only-of-type {\n",
       "        vertical-align: middle;\n",
       "    }\n",
       "\n",
       "    .dataframe tbody tr th {\n",
       "        vertical-align: top;\n",
       "    }\n",
       "\n",
       "    .dataframe thead th {\n",
       "        text-align: right;\n",
       "    }\n",
       "</style>\n",
       "<table border=\"1\" class=\"dataframe\">\n",
       "  <thead>\n",
       "    <tr style=\"text-align: right;\">\n",
       "      <th></th>\n",
       "      <th>AAL</th>\n",
       "      <th>AAPL</th>\n",
       "      <th>ABNB</th>\n",
       "      <th>ADBE</th>\n",
       "      <th>ADI</th>\n",
       "      <th>ADP</th>\n",
       "      <th>ADSK</th>\n",
       "      <th>AEP</th>\n",
       "      <th>AKAM</th>\n",
       "      <th>ALGN</th>\n",
       "      <th>...</th>\n",
       "      <th>VRTX</th>\n",
       "      <th>VTRS</th>\n",
       "      <th>WBA</th>\n",
       "      <th>WDAY</th>\n",
       "      <th>WDC</th>\n",
       "      <th>WYNN</th>\n",
       "      <th>XEL</th>\n",
       "      <th>XRAY</th>\n",
       "      <th>ZM</th>\n",
       "      <th>ZS</th>\n",
       "    </tr>\n",
       "    <tr>\n",
       "      <th>Date</th>\n",
       "      <th></th>\n",
       "      <th></th>\n",
       "      <th></th>\n",
       "      <th></th>\n",
       "      <th></th>\n",
       "      <th></th>\n",
       "      <th></th>\n",
       "      <th></th>\n",
       "      <th></th>\n",
       "      <th></th>\n",
       "      <th></th>\n",
       "      <th></th>\n",
       "      <th></th>\n",
       "      <th></th>\n",
       "      <th></th>\n",
       "      <th></th>\n",
       "      <th></th>\n",
       "      <th></th>\n",
       "      <th></th>\n",
       "      <th></th>\n",
       "      <th></th>\n",
       "    </tr>\n",
       "  </thead>\n",
       "  <tbody>\n",
       "    <tr>\n",
       "      <th>2016-01-31 00:00:00-05:00</th>\n",
       "      <td>0.953068</td>\n",
       "      <td>0.923968</td>\n",
       "      <td>1.0</td>\n",
       "      <td>0.969120</td>\n",
       "      <td>0.989346</td>\n",
       "      <td>1.012428</td>\n",
       "      <td>0.776322</td>\n",
       "      <td>1.045259</td>\n",
       "      <td>0.872109</td>\n",
       "      <td>1.029096</td>\n",
       "      <td>...</td>\n",
       "      <td>0.738465</td>\n",
       "      <td>0.988926</td>\n",
       "      <td>0.959904</td>\n",
       "      <td>0.810314</td>\n",
       "      <td>0.794371</td>\n",
       "      <td>0.979206</td>\n",
       "      <td>1.070589</td>\n",
       "      <td>1.000510</td>\n",
       "      <td>1.0</td>\n",
       "      <td>1.0</td>\n",
       "    </tr>\n",
       "    <tr>\n",
       "      <th>2016-02-29 00:00:00-05:00</th>\n",
       "      <td>1.054421</td>\n",
       "      <td>0.998713</td>\n",
       "      <td>1.0</td>\n",
       "      <td>0.955346</td>\n",
       "      <td>0.991943</td>\n",
       "      <td>1.019257</td>\n",
       "      <td>1.105083</td>\n",
       "      <td>1.021900</td>\n",
       "      <td>1.183034</td>\n",
       "      <td>0.998337</td>\n",
       "      <td>...</td>\n",
       "      <td>0.942039</td>\n",
       "      <td>0.855381</td>\n",
       "      <td>0.994862</td>\n",
       "      <td>0.959372</td>\n",
       "      <td>0.907253</td>\n",
       "      <td>1.232686</td>\n",
       "      <td>1.034537</td>\n",
       "      <td>1.035150</td>\n",
       "      <td>1.0</td>\n",
       "      <td>1.0</td>\n",
       "    </tr>\n",
       "    <tr>\n",
       "      <th>2016-03-31 00:00:00-04:00</th>\n",
       "      <td>1.000244</td>\n",
       "      <td>1.127210</td>\n",
       "      <td>1.0</td>\n",
       "      <td>1.101585</td>\n",
       "      <td>1.117003</td>\n",
       "      <td>1.065883</td>\n",
       "      <td>1.126981</td>\n",
       "      <td>1.075304</td>\n",
       "      <td>1.029646</td>\n",
       "      <td>1.100863</td>\n",
       "      <td>...</td>\n",
       "      <td>0.929816</td>\n",
       "      <td>1.028400</td>\n",
       "      <td>1.067139</td>\n",
       "      <td>1.271133</td>\n",
       "      <td>1.096576</td>\n",
       "      <td>1.132759</td>\n",
       "      <td>1.066564</td>\n",
       "      <td>1.012307</td>\n",
       "      <td>1.0</td>\n",
       "      <td>1.0</td>\n",
       "    </tr>\n",
       "    <tr>\n",
       "      <th>2016-04-30 00:00:00-04:00</th>\n",
       "      <td>0.845891</td>\n",
       "      <td>0.860079</td>\n",
       "      <td>1.0</td>\n",
       "      <td>1.004478</td>\n",
       "      <td>0.951512</td>\n",
       "      <td>0.985843</td>\n",
       "      <td>1.025896</td>\n",
       "      <td>0.956325</td>\n",
       "      <td>0.917581</td>\n",
       "      <td>0.993121</td>\n",
       "      <td>...</td>\n",
       "      <td>1.061014</td>\n",
       "      <td>0.899892</td>\n",
       "      <td>0.941121</td>\n",
       "      <td>0.975794</td>\n",
       "      <td>0.865157</td>\n",
       "      <td>0.945093</td>\n",
       "      <td>0.957197</td>\n",
       "      <td>0.967062</td>\n",
       "      <td>1.0</td>\n",
       "      <td>1.0</td>\n",
       "    </tr>\n",
       "    <tr>\n",
       "      <th>2016-05-31 00:00:00-04:00</th>\n",
       "      <td>0.922521</td>\n",
       "      <td>1.071773</td>\n",
       "      <td>1.0</td>\n",
       "      <td>1.055721</td>\n",
       "      <td>1.046255</td>\n",
       "      <td>0.993215</td>\n",
       "      <td>0.974089</td>\n",
       "      <td>1.028208</td>\n",
       "      <td>1.070406</td>\n",
       "      <td>1.091979</td>\n",
       "      <td>...</td>\n",
       "      <td>1.104458</td>\n",
       "      <td>1.039079</td>\n",
       "      <td>0.980777</td>\n",
       "      <td>1.011470</td>\n",
       "      <td>1.138732</td>\n",
       "      <td>1.095103</td>\n",
       "      <td>1.033475</td>\n",
       "      <td>1.042953</td>\n",
       "      <td>1.0</td>\n",
       "      <td>1.0</td>\n",
       "    </tr>\n",
       "  </tbody>\n",
       "</table>\n",
       "<p>5 rows × 136 columns</p>\n",
       "</div>"
      ],
      "text/plain": [
       "                                AAL      AAPL  ABNB      ADBE       ADI  \\\n",
       "Date                                                                      \n",
       "2016-01-31 00:00:00-05:00  0.953068  0.923968   1.0  0.969120  0.989346   \n",
       "2016-02-29 00:00:00-05:00  1.054421  0.998713   1.0  0.955346  0.991943   \n",
       "2016-03-31 00:00:00-04:00  1.000244  1.127210   1.0  1.101585  1.117003   \n",
       "2016-04-30 00:00:00-04:00  0.845891  0.860079   1.0  1.004478  0.951512   \n",
       "2016-05-31 00:00:00-04:00  0.922521  1.071773   1.0  1.055721  1.046255   \n",
       "\n",
       "                                ADP      ADSK       AEP      AKAM      ALGN  \\\n",
       "Date                                                                          \n",
       "2016-01-31 00:00:00-05:00  1.012428  0.776322  1.045259  0.872109  1.029096   \n",
       "2016-02-29 00:00:00-05:00  1.019257  1.105083  1.021900  1.183034  0.998337   \n",
       "2016-03-31 00:00:00-04:00  1.065883  1.126981  1.075304  1.029646  1.100863   \n",
       "2016-04-30 00:00:00-04:00  0.985843  1.025896  0.956325  0.917581  0.993121   \n",
       "2016-05-31 00:00:00-04:00  0.993215  0.974089  1.028208  1.070406  1.091979   \n",
       "\n",
       "                           ...      VRTX      VTRS       WBA      WDAY  \\\n",
       "Date                       ...                                           \n",
       "2016-01-31 00:00:00-05:00  ...  0.738465  0.988926  0.959904  0.810314   \n",
       "2016-02-29 00:00:00-05:00  ...  0.942039  0.855381  0.994862  0.959372   \n",
       "2016-03-31 00:00:00-04:00  ...  0.929816  1.028400  1.067139  1.271133   \n",
       "2016-04-30 00:00:00-04:00  ...  1.061014  0.899892  0.941121  0.975794   \n",
       "2016-05-31 00:00:00-04:00  ...  1.104458  1.039079  0.980777  1.011470   \n",
       "\n",
       "                                WDC      WYNN       XEL      XRAY   ZM   ZS  \n",
       "Date                                                                         \n",
       "2016-01-31 00:00:00-05:00  0.794371  0.979206  1.070589  1.000510  1.0  1.0  \n",
       "2016-02-29 00:00:00-05:00  0.907253  1.232686  1.034537  1.035150  1.0  1.0  \n",
       "2016-03-31 00:00:00-04:00  1.096576  1.132759  1.066564  1.012307  1.0  1.0  \n",
       "2016-04-30 00:00:00-04:00  0.865157  0.945093  0.957197  0.967062  1.0  1.0  \n",
       "2016-05-31 00:00:00-04:00  1.138732  1.095103  1.033475  1.042953  1.0  1.0  \n",
       "\n",
       "[5 rows x 136 columns]"
      ]
     },
     "execution_count": 10,
     "metadata": {},
     "output_type": "execute_result"
    }
   ],
   "source": [
    "df.index = pd.to_datetime(df.index)\n",
    "mtl = (df.pct_change() + 1)[1:].resample('M').prod()\n",
    "mtl.head()"
   ]
  },
  {
   "cell_type": "code",
   "execution_count": null,
   "metadata": {},
   "outputs": [],
   "source": [
    "def get_rolling_ret(df,n):\n",
    "    return df.rolling(n).apply(np.prod)"
   ]
  },
  {
   "cell_type": "code",
   "execution_count": null,
   "metadata": {},
   "outputs": [],
   "source": [
    "ret_12, ret_6, ret_3 = get_rolling_ret(mtl,12), get_rolling_ret(mtl,6), get_rolling_ret(mtl,3)"
   ]
  },
  {
   "cell_type": "code",
   "execution_count": null,
   "metadata": {},
   "outputs": [],
   "source": [
    "def get_relevant(date):\n",
    "    ix = np.argmax(pd.to_datetime(date))# >= component.columns)\n",
    "    return component[component.iloc[:,ix]].index"
   ]
  },
  {
   "cell_type": "code",
   "execution_count": null,
   "metadata": {},
   "outputs": [],
   "source": [
    "def filter_ret(date,ret_df):\n",
    "    return ret_df[get_relevant(date)]"
   ]
  },
  {
   "cell_type": "code",
   "execution_count": null,
   "metadata": {},
   "outputs": [],
   "source": [
    "def get_top(date):\n",
    "    ret_12m, ret_6m, ret_3m = filter_ret(date,ret_12), filter_ret(date,ret_6), filter_ret(date,ret_3)\n",
    "    \n",
    "    top_50 = ret_12m.loc[date].nlargest(50).index\n",
    "    top_30 = ret_6m.loc[date].nlargest(30).index\n",
    "    top_10 = ret_3m.loc[date].nlargest(10).index\n",
    "    return top_10"
   ]
  },
  {
   "cell_type": "code",
   "execution_count": null,
   "metadata": {},
   "outputs": [],
   "source": [
    "def performance(date):\n",
    "    portfolio = mtl.loc[date:,get_top(date)][1:2]\n",
    "    return portfolio.mean(axis=1)"
   ]
  },
  {
   "cell_type": "code",
   "execution_count": null,
   "metadata": {},
   "outputs": [],
   "source": [
    "rets = []\n",
    "\n",
    "for date in mtl.index:\n",
    "    pf_per = performance(date)\n",
    "    rets.append(pf_per)"
   ]
  },
  {
   "cell_type": "code",
   "execution_count": null,
   "metadata": {},
   "outputs": [],
   "source": [
    "rets_fin = pd.concat(rets)"
   ]
  },
  {
   "cell_type": "code",
   "execution_count": null,
   "metadata": {},
   "outputs": [
    {
     "data": {
      "text/plain": [
       "<AxesSubplot: xlabel='Date'>"
      ]
     },
     "execution_count": 19,
     "metadata": {},
     "output_type": "execute_result"
    },
    {
     "data": {
      "image/png": "[encoded data removed]",
      "text/plain": [
       "<Figure size 640x480 with 1 Axes>"
      ]
     },
     "metadata": {},
     "output_type": "display_data"
    }
   ],
   "source": [
    "rets_fin.cumprod().plot()"
   ]
  },
  {
   "cell_type": "code",
   "execution_count": null,
   "metadata": {},
   "outputs": [
    {
     "data": {
      "text/plain": [
       "Date\n",
       "2016-02-29 00:00:00-05:00     0.961839\n",
       "2016-03-31 00:00:00-04:00     1.052852\n",
       "2016-04-30 00:00:00-04:00     1.029554\n",
       "2016-05-31 00:00:00-04:00     1.103340\n",
       "2016-06-30 00:00:00-04:00     1.101399\n",
       "                               ...    \n",
       "2022-10-31 00:00:00-04:00     9.126137\n",
       "2022-11-30 00:00:00-05:00    10.052321\n",
       "2022-12-31 00:00:00-05:00     9.573987\n",
       "2023-01-31 00:00:00-05:00    10.031484\n",
       "2023-02-28 00:00:00-05:00     9.874390\n",
       "Freq: M, Length: 85, dtype: float64"
      ]
     },
     "execution_count": 20,
     "metadata": {},
     "output_type": "execute_result"
    }
   ],
   "source": [
    "rets_fin.cumprod()"
   ]
  },
  {
   "cell_type": "code",
   "execution_count": null,
   "metadata": {},
   "outputs": [
    {
     "name": "stdout",
     "output_type": "stream",
     "text": [
      "[*********************100%***********************]  1 of 1 completed\n"
     ]
    }
   ],
   "source": [
    "nas_BH = yf.download('QQQ', start='2017-01-01')['Adj Close']"
   ]
  },
  {
   "cell_type": "code",
   "execution_count": null,
   "metadata": {},
   "outputs": [
    {
     "data": {
      "text/plain": [
       "Date\n",
       "2017-01-03 00:00:00-05:00         NaN\n",
       "2017-01-04 00:00:00-05:00    1.005437\n",
       "2017-01-05 00:00:00-05:00    1.011126\n",
       "2017-01-06 00:00:00-05:00    1.019994\n",
       "2017-01-09 00:00:00-05:00    1.023340\n",
       "                               ...   \n",
       "2023-02-22 00:00:00-05:00    2.571012\n",
       "2023-02-23 00:00:00-05:00    2.593467\n",
       "2023-02-24 00:00:00-05:00    2.550042\n",
       "2023-02-27 00:00:00-05:00    2.568303\n",
       "2023-02-28 00:00:00-05:00    2.575730\n",
       "Name: Adj Close, Length: 1549, dtype: float64"
      ]
     },
     "execution_count": 22,
     "metadata": {},
     "output_type": "execute_result"
    }
   ],
   "source": [
    "(nas_BH.pct_change() + 1).cumprod()"
   ]
  },
  {
   "attachments": {},
   "cell_type": "markdown",
   "metadata": {},
   "source": [
    "---"
   ]
  },
  {
   "attachments": {},
   "cell_type": "markdown",
   "metadata": {},
   "source": [
    "### Recent Monthly Performance Backtest"
   ]
  },
  {
   "cell_type": "code",
   "execution_count": null,
   "metadata": {},
   "outputs": [
    {
     "data": {
      "text/plain": [
       "['PDD', 'BIDU', 'NTES', 'JD', 'PTON', 'NVDA', 'ASML', 'ALGN', 'IDXX', 'OKTA']"
      ]
     },
     "execution_count": 23,
     "metadata": {},
     "output_type": "execute_result"
    }
   ],
   "source": [
    "latest = '2023-01-31'\n",
    "\n",
    "top_perf = get_top(latest)\n",
    "top_perf = top_perf.to_list()\n",
    "top_perf"
   ]
  },
  {
   "cell_type": "code",
   "execution_count": null,
   "metadata": {},
   "outputs": [
    {
     "name": "stdout",
     "output_type": "stream",
     "text": [
      "[*********************100%***********************]  10 of 10 completed\n"
     ]
    }
   ],
   "source": [
    "recent_data = yf.download(top_perf, start=latest)['Adj Close']"
   ]
  },
  {
   "cell_type": "code",
   "execution_count": null,
   "metadata": {},
   "outputs": [
    {
     "data": {
      "text/plain": [
       "Date\n",
       "2023-01-31 00:00:00-05:00         NaN\n",
       "2023-02-01 00:00:00-05:00    1.068453\n",
       "2023-02-02 00:00:00-05:00    1.112628\n",
       "2023-02-03 00:00:00-05:00    1.071702\n",
       "2023-02-06 00:00:00-05:00    1.058976\n",
       "2023-02-07 00:00:00-05:00    1.087738\n",
       "2023-02-08 00:00:00-05:00    1.064434\n",
       "2023-02-09 00:00:00-05:00    1.054353\n",
       "2023-02-10 00:00:00-05:00    1.020532\n",
       "2023-02-13 00:00:00-05:00    1.039309\n",
       "2023-02-14 00:00:00-05:00    1.052256\n",
       "2023-02-15 00:00:00-05:00    1.063477\n",
       "2023-02-16 00:00:00-05:00    1.046458\n",
       "2023-02-17 00:00:00-05:00    1.021311\n",
       "2023-02-21 00:00:00-05:00    0.980182\n",
       "2023-02-22 00:00:00-05:00    0.976914\n",
       "2023-02-23 00:00:00-05:00    0.993809\n",
       "2023-02-24 00:00:00-05:00    0.968194\n",
       "2023-02-27 00:00:00-05:00    0.979463\n",
       "2023-02-28 00:00:00-05:00    0.984303\n",
       "dtype: float64"
      ]
     },
     "execution_count": 25,
     "metadata": {},
     "output_type": "execute_result"
    }
   ],
   "source": [
    "recent_data = (recent_data.pct_change() + 1).cumprod()\n",
    "rec_data = recent_data.mean(axis=1)\n",
    "rec_data"
   ]
  },
  {
   "cell_type": "code",
   "execution_count": null,
   "metadata": {},
   "outputs": [
    {
     "data": {
      "text/plain": [
       "<AxesSubplot: xlabel='Date'>"
      ]
     },
     "execution_count": 26,
     "metadata": {},
     "output_type": "execute_result"
    },
    {
     "data": {
      "image/png": "[encoded data removed]",
      "text/plain": [
       "<Figure size 640x480 with 1 Axes>"
      ]
     },
     "metadata": {},
     "output_type": "display_data"
    }
   ],
   "source": [
    "rec_data.plot()"
   ]
  },
  {
   "cell_type": "code",
   "execution_count": null,
   "metadata": {},
   "outputs": [],
   "source": []
  }
 ],
 "metadata": {
  "kernelspec": {
   "display_name": "base",
   "language": "python",
   "name": "python3"
  },
  "language_info": {
   "codemirror_mode": {
    "name": "ipython",
    "version": 3
   },
   "file_extension": ".py",
   "mimetype": "text/x-python",
   "name": "python",
   "nbconvert_exporter": "python",
   "pygments_lexer": "ipython3",
   "version": "3.9.13"
  },
  "orig_nbformat": 4,
  "vscode": {
   "interpreter": {
    "hash": "fc3776ea825f2288ceefe5f685df13be93cd02d34ac5945f3f6dcb72c7ff4efc"
   }
  }
 },
 "nbformat": 4,
 "nbformat_minor": 2
}
